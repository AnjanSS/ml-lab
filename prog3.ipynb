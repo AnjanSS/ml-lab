{
 "cells": [
  {
   "cell_type": "code",
   "execution_count": 30,
   "id": "d4592844",
   "metadata": {},
   "outputs": [],
   "source": [
    "import csv\n",
    "import math\n",
    "import random"
   ]
  },
  {
   "cell_type": "code",
   "execution_count": 31,
   "id": "15b59286",
   "metadata": {},
   "outputs": [],
   "source": [
    "def loadcsv(filename):\n",
    "    lines = csv.reader(open(filename, \"r\"));\n",
    "    dataset = list(lines)\n",
    "    for i in range(len(dataset)):\n",
    "        dataset[i] = [float(x) for x in dataset[i]]\n",
    "    return dataset"
   ]
  },
  {
   "cell_type": "code",
   "execution_count": 32,
   "id": "13d90abc",
   "metadata": {},
   "outputs": [],
   "source": [
    "def splitdataset(dataset, splitratio):\n",
    "    trainsize = int(len(dataset) * splitratio);\n",
    "    trainset = []\n",
    "    copy = list(dataset);\n",
    "    while len(trainset) < trainsize:\n",
    "        index = random.randrange(len(copy));\n",
    "        trainset.append(copy.pop(index))\n",
    "    return [trainset, copy]"
   ]
  },
  {
   "cell_type": "code",
   "execution_count": 33,
   "id": "745f2e66",
   "metadata": {},
   "outputs": [],
   "source": [
    "def separatebyclass(dataset):\n",
    "    separated = {}\n",
    "    for i in range(len(dataset)):\n",
    "        vector = dataset[i]\n",
    "        if (vector[-1] not in separated):\n",
    "            separated[vector[-1]] = []\n",
    "        separated[vector[-1]].append(vector)\n",
    "    return separated"
   ]
  },
  {
   "cell_type": "code",
   "execution_count": 34,
   "id": "8c72e791",
   "metadata": {},
   "outputs": [],
   "source": [
    "def mean(numbers):\n",
    "    return sum(numbers)/float(len(numbers))"
   ]
  },
  {
   "cell_type": "code",
   "execution_count": 35,
   "id": "63db7e7b",
   "metadata": {},
   "outputs": [],
   "source": [
    "def stdev(numbers):\n",
    "    avg = mean(numbers)\n",
    "    variance = sum([pow(x-avg,2) for x in numbers])/float(len(numbers)-1)\n",
    "    return math.sqrt(variance)"
   ]
  },
  {
   "cell_type": "code",
   "execution_count": 36,
   "id": "95020bfe",
   "metadata": {},
   "outputs": [],
   "source": [
    "def summarize(dataset):\n",
    "    summaries = [(mean(attribute), stdev(attribute)) for attribute in zip(*dataset)];\n",
    "    del summaries[-1]\n",
    "    return summaries"
   ]
  },
  {
   "cell_type": "code",
   "execution_count": 37,
   "id": "b5808c6c",
   "metadata": {},
   "outputs": [],
   "source": [
    "def summarizebyclass(dataset):\n",
    "    separated = separatebyclass(dataset);\n",
    "    summaries = {}\n",
    "    for classvalue, instances in separated.items():\n",
    "        summaries[classvalue] = summarize(instances)\n",
    "    return summaries"
   ]
  },
  {
   "cell_type": "code",
   "execution_count": 38,
   "id": "9e652fec",
   "metadata": {},
   "outputs": [],
   "source": [
    "def calculateprobability(x, mean, stdev):\n",
    "    exponent = math.exp(-(math.pow(x-mean,2)/(2*math.pow(stdev,2))))\n",
    "    return (1 / (math.sqrt(2*math.pi) * stdev)) * exponent"
   ]
  },
  {
   "cell_type": "code",
   "execution_count": 39,
   "id": "90542ba4",
   "metadata": {},
   "outputs": [],
   "source": [
    "def calculateclassprobabilities(summaries, inputvector):\n",
    "    probabilities = {}\n",
    "    for classvalue, classsummaries in summaries.items():\n",
    "        probabilities[classvalue] = 1\n",
    "        for i in range(len(classsummaries)):\n",
    "            mean, stdev = classsummaries[i]\n",
    "            x = inputvector[i] \n",
    "            probabilities[classvalue] *= calculateprobability(x, mean, stdev);\n",
    "    return probabilities"
   ]
  },
  {
   "cell_type": "code",
   "execution_count": 40,
   "id": "1eaf268d",
   "metadata": {},
   "outputs": [],
   "source": [
    "def predict(summaries, inputvector):\n",
    "    probabilities = calculateclassprobabilities(summaries,inputvector)\n",
    "    bestLabel, bestProb = None, -1\n",
    "    for classvalue, probability in probabilities.items():\n",
    "        if bestLabel is None or probability > bestProb:\n",
    "            bestProb = probability\n",
    "            bestLabel = classvalue\n",
    "    return bestLabel"
   ]
  },
  {
   "cell_type": "code",
   "execution_count": 41,
   "id": "48350546",
   "metadata": {},
   "outputs": [],
   "source": [
    "def getpredictions(summaries, testset):\n",
    "    predictions = []\n",
    "    for i in range(len(testset)):\n",
    "        result = predict(summaries, testset[i])\n",
    "        predictions.append(result)\n",
    "    return predictions"
   ]
  },
  {
   "cell_type": "code",
   "execution_count": 42,
   "id": "fac8cc75",
   "metadata": {},
   "outputs": [],
   "source": [
    "def getaccuracy(testset, predictions):\n",
    "    correct = 0\n",
    "    for i in range(len(testset)):\n",
    "        if testset[i][-1] == predictions[i]:\n",
    "            correct += 1\n",
    "    return (correct/float(len(testset))) * 100.0"
   ]
  },
  {
   "cell_type": "code",
   "execution_count": 43,
   "id": "cfba9ef7",
   "metadata": {},
   "outputs": [],
   "source": [
    "def main():\n",
    "    filename = 'diabetes.csv'\n",
    "    splitratio = 0.67\n",
    "    dataset = loadcsv(filename);\n",
    "    trainingset, testset = splitdataset(dataset, splitratio)\n",
    "    print('Split {0} rows into train={1} and test={2} rows'.format(len(dataset), len(trainingset), len(testset)))\n",
    "    summaries = summarizebyclass(trainingset);\n",
    "    predictions = getpredictions(summaries, testset)\n",
    "    accuracy = getaccuracy(testset, predictions)\n",
    "    print('Accuracy of the classifier is : {0}%'.format(accuracy))\n"
   ]
  },
  {
   "cell_type": "code",
   "execution_count": 44,
   "id": "1b541e30",
   "metadata": {},
   "outputs": [
    {
     "name": "stdout",
     "output_type": "stream",
     "text": [
      "Split 768 rows into train=514 and test=254 rows\n",
      "Accuracy of the classifier is : 74.40944881889764%\n"
     ]
    }
   ],
   "source": [
    "main()"
   ]
  },
  {
   "cell_type": "code",
   "execution_count": null,
   "id": "9dba4355",
   "metadata": {},
   "outputs": [],
   "source": []
  },
  {
   "cell_type": "code",
   "execution_count": null,
   "id": "a87da7b7",
   "metadata": {},
   "outputs": [],
   "source": []
  }
 ],
 "metadata": {
  "kernelspec": {
   "display_name": "Python 3 (ipykernel)",
   "language": "python",
   "name": "python3"
  },
  "language_info": {
   "codemirror_mode": {
    "name": "ipython",
    "version": 3
   },
   "file_extension": ".py",
   "mimetype": "text/x-python",
   "name": "python",
   "nbconvert_exporter": "python",
   "pygments_lexer": "ipython3",
   "version": "3.10.9"
  }
 },
 "nbformat": 4,
 "nbformat_minor": 5
}
